{
 "cells": [
  {
   "cell_type": "code",
   "execution_count": 1,
   "id": "2e0532be",
   "metadata": {},
   "outputs": [
    {
     "data": {
      "application/vnd.jupyter.widget-view+json": {
       "model_id": "96e077896dd44405a03dfb3091b00d52",
       "version_major": 2,
       "version_minor": 0
      },
      "text/plain": [
       "  0%|          | 0/1000 [00:00<?, ?it/s]"
      ]
     },
     "metadata": {},
     "output_type": "display_data"
    },
    {
     "name": "stdout",
     "output_type": "stream",
     "text": [
      "Saved samples to samples/sample.png\n"
     ]
    }
   ],
   "source": [
    "import os, torch\n",
    "from torchvision.utils import save_image\n",
    "from guided_diffusion.script_util import create_model_and_diffusion, model_and_diffusion_defaults\n",
    "\n",
    "# --- Setup ---\n",
    "device = \"cuda\" if torch.cuda.is_available() else \"cpu\"\n",
    "model_path = \"weights/256x256_diffusion_uncond.pt\"\n",
    "\n",
    "# --- Create model & diffusion with the *checkpoint-matching* args ---\n",
    "args = model_and_diffusion_defaults()\n",
    "args.update({\n",
    "    \"image_size\": 256,\n",
    "    \"class_cond\": False,\n",
    "    \"learn_sigma\": True,\n",
    "    \"num_channels\": 256,\n",
    "    \"num_res_blocks\": 2,\n",
    "    \"channel_mult\": \"\",                  # use default (1,1,2,2,4,4) for 256px\n",
    "    \"attention_resolutions\": \"32,16,8\",  # REQUIRED for this ckpt\n",
    "    \"num_head_channels\": 64,             # REQUIRED for this ckpt\n",
    "    \"resblock_updown\": True,\n",
    "    \"use_scale_shift_norm\": True,\n",
    "    \"use_fp16\": False,                   # set True + convert_to_fp16() if you want fp16\n",
    "    \"diffusion_steps\": 1000,\n",
    "    \"noise_schedule\": \"linear\",\n",
    "    \"timestep_respacing\": \"\",            # empty -> use all steps\n",
    "})\n",
    "\n",
    "model, diffusion = create_model_and_diffusion(**args)\n",
    "\n",
    "# Some checkpoints are raw state_dicts (no 'model' key)\n",
    "state = torch.load(model_path, map_location=\"cpu\")\n",
    "if isinstance(state, dict) and \"state_dict\" in state:\n",
    "    state = state[\"state_dict\"]\n",
    "\n",
    "missing, unexpected = model.load_state_dict(state, strict=False)\n",
    "if missing or unexpected:\n",
    "    print(f\"[warn] missing keys: {len(missing)}  unexpected keys: {len(unexpected)}\")\n",
    "\n",
    "model.to(device).eval()\n",
    "\n",
    "# --- Sampling demo ---\n",
    "batch_size = 4\n",
    "sample_fn = diffusion.p_sample_loop\n",
    "\n",
    "with torch.no_grad():\n",
    "    samples = sample_fn(\n",
    "        model,\n",
    "        (batch_size, 3, args[\"image_size\"], args[\"image_size\"]),\n",
    "        clip_denoised=True,\n",
    "        model_kwargs={},\n",
    "        progress=True,\n",
    "        device=device,   # some forks accept this; if not, it will be ignored\n",
    "    )\n",
    "\n",
    "# --- Save ---\n",
    "os.makedirs(\"samples\", exist_ok=True)\n",
    "save_image((samples + 1) / 2, \"samples/sample.png\")  # [-1,1] -> [0,1]\n",
    "print(\"Saved samples to samples/sample.png\")\n"
   ]
  }
 ],
 "metadata": {
  "kernelspec": {
   "display_name": "Python 3",
   "language": "python",
   "name": "python3"
  },
  "language_info": {
   "codemirror_mode": {
    "name": "ipython",
    "version": 3
   },
   "file_extension": ".py",
   "mimetype": "text/x-python",
   "name": "python",
   "nbconvert_exporter": "python",
   "pygments_lexer": "ipython3",
   "version": "3.11.10"
  }
 },
 "nbformat": 4,
 "nbformat_minor": 5
}
