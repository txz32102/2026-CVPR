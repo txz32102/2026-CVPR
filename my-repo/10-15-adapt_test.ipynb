{
 "cells": [
  {
   "cell_type": "code",
   "execution_count": null,
   "id": "bd571ded",
   "metadata": {},
   "outputs": [],
   "source": [
    "from my_utils.data import *\n",
    "from models.network_swinir import *\n",
    "from models.AdaptNet1015 import AdaptNet, AdaptConfig\n",
    "import torch\n",
    "from my_utils.plot import * \n",
    "from my_utils.utils import calculate_psnr"
   ]
  },
  {
   "cell_type": "code",
   "execution_count": null,
   "id": "f6eaf96a",
   "metadata": {},
   "outputs": [],
   "source": [
    "border = 0\n",
    "window_size = 8\n",
    "device = 'cuda:1'\n",
    "ckpt_path = \"/home/data1/musong/workspace/python/SwinIR/model_zoo/swinir/005_colorDN_DFWB_s128w8_SwinIR-M_noise50.pth\"\n",
    "\n",
    "model = SwinIR(upscale=1, in_chans=3, img_size=128, window_size=8,\n",
    "            img_range=1., depths=[6, 6, 6, 6, 6, 6], embed_dim=180, num_heads=[6, 6, 6, 6, 6, 6],\n",
    "            mlp_ratio=2, upsampler='', resi_connection='1conv')\n",
    "\n",
    "pretrained_model = torch.load(ckpt_path)\n",
    "param_key_g = 'params'\n",
    "model.load_state_dict(pretrained_model[param_key_g] if param_key_g in pretrained_model.keys() else pretrained_model, strict=True)\n",
    "model = model.to(device)\n",
    "\n",
    "conv_cfg = AdaptConfig(mode=\"conv\", num_blocks=3, expansion=2, use_affine=True)\n",
    "conv_adapt = AdaptNet(c=3, cfg=conv_cfg).to(device)"
   ]
  },
  {
   "cell_type": "code",
   "execution_count": null,
   "id": "e255ad0c",
   "metadata": {},
   "outputs": [],
   "source": [
    "img_lq, img_gt = prepare_oom_mr_image()\n",
    "# img_lq, img_gt = get_image_pair()\n",
    "img_lq = np.transpose(img_lq if img_lq.shape[2] == 1 else img_lq[:, :, [2, 1, 0]], (2, 0, 1)) \n",
    "img_lq = np.clip(img_lq, 0, 1)\n",
    "img_lq = torch.from_numpy(img_lq).float().unsqueeze(0).to(device) \n",
    "img_gt = np.transpose(img_gt if img_gt.shape[2] == 1 else img_gt[:, :, [2, 1, 0]], (2, 0, 1)) \n",
    "img_gt = torch.from_numpy(img_gt).float().unsqueeze(0)\n",
    "\n",
    "with torch.no_grad():\n",
    "    output = model(img_lq)\n",
    "    adaptd = conv_adapt(output)"
   ]
  },
  {
   "cell_type": "code",
   "execution_count": null,
   "id": "deba4b70",
   "metadata": {},
   "outputs": [],
   "source": [
    "show_three_images(img_lq, img_gt, adaptd)"
   ]
  },
  {
   "cell_type": "code",
   "execution_count": null,
   "id": "278badd7",
   "metadata": {},
   "outputs": [],
   "source": [
    "img_gt = (img_gt * 255.0).round().detach().cpu().numpy().astype(np.uint8) \n",
    "img_lq = (img_lq * 255.0).round().detach().cpu().numpy().astype(np.uint8) \n",
    "output = (output * 255.0).round().detach().cpu().numpy().astype(np.uint8) \n",
    "adaptd = (adaptd * 255.0).round().detach().cpu().numpy().astype(np.uint8) \n",
    "print(calculate_psnr(img_lq, img_gt, crop_border=0))\n",
    "print(calculate_psnr(output, img_gt, crop_border=0))\n",
    "print(calculate_psnr(adaptd, img_gt, crop_border=0))"
   ]
  }
 ],
 "metadata": {
  "kernelspec": {
   "display_name": "Python 3",
   "language": "python",
   "name": "python3"
  },
  "language_info": {
   "codemirror_mode": {
    "name": "ipython",
    "version": 3
   },
   "file_extension": ".py",
   "mimetype": "text/x-python",
   "name": "python",
   "nbconvert_exporter": "python",
   "pygments_lexer": "ipython3",
   "version": "3.11.10"
  }
 },
 "nbformat": 4,
 "nbformat_minor": 5
}
