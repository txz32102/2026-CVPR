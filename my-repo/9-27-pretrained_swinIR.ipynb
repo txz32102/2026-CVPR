{
 "cells": [
  {
   "cell_type": "code",
   "execution_count": null,
   "id": "b90d18e8",
   "metadata": {},
   "outputs": [],
   "source": [
    "from models.network_swinir import *\n",
    "import os\n",
    "from collections import OrderedDict\n",
    "from datetime import datetime\n",
    "import json\n",
    "import re\n",
    "import glob"
   ]
  },
  {
   "cell_type": "code",
   "execution_count": 2,
   "id": "322fb5f5",
   "metadata": {},
   "outputs": [],
   "source": [
    "ckpt_path = \"/home/data1/musong/workspace/python/2026-CVPR/KAIR/superresolution/swinir_sr_realworld_x4_psnr/models/20000_G.pth\""
   ]
  },
  {
   "cell_type": "code",
   "execution_count": null,
   "id": "b7968dcf",
   "metadata": {},
   "outputs": [],
   "source": [
    "model = SwinIR(upscale=4,\n",
    "               in_chans=3,\n",
    "               img_size=64,\n",
    "               window_size=8,\n",
    "               img_range=1.0,\n",
    "               depths=[6, 6, 6, 6, 6, 6],\n",
    "               embed_dim=180,\n",
    "               num_heads=[6, 6, 6, 6, 6, 6],\n",
    "               mlp_ratio=2,\n",
    "               upsampler='nearest+conv',\n",
    "               resi_connection='1conv',\n",
    "               init_type='default',\n",
    "               scale=4)\n",
    "\n",
    "\n",
    "ckpt_path = \"/home/data1/musong/workspace/python/2026-CVPR/KAIR/superresolution/swinir_sr_realworld_x4_psnr/models/20000_G.pth\"\n",
    "state_dict = torch.load(ckpt_path, map_location='cpu')\n",
    "\n",
    "model.load_state_dict(state_dict, strict=True)\n",
    "model.eval()\n",
    "print(\"Loaded SwinIR weights from:\", ckpt_path)"
   ]
  },
  {
   "cell_type": "code",
   "execution_count": null,
   "id": "c5db2195",
   "metadata": {},
   "outputs": [],
   "source": [
    "device = torch.device(\"cuda:6\")\n",
    "upscale = 4\n",
    "window_size = 8\n",
    "height = (1024 // upscale // window_size + 1) * window_size\n",
    "width = (720 // upscale // window_size + 1) * window_size\n",
    "\n",
    "model = model.to(device)"
   ]
  },
  {
   "cell_type": "code",
   "execution_count": null,
   "id": "5d69cba3",
   "metadata": {},
   "outputs": [],
   "source": [
    "import torch\n",
    "from PIL import Image\n",
    "import matplotlib.pyplot as plt\n",
    "import torchvision.transforms as T\n",
    "\n",
    "# path to your image\n",
    "path = \"/home/data1/musong/workspace/python/2026-CVPR/KAIR/trainsets/trainH/0001.png\"\n",
    "\n",
    "# 1. Read image\n",
    "img = Image.open(path).convert(\"RGB\")  # ensure 3 channels\n",
    "\n",
    "# 2. Plot it\n",
    "# plt.imshow(img)\n",
    "# plt.axis(\"off\")\n",
    "# plt.show()\n",
    "\n",
    "# 3. Convert to tensor in [0, 1], shape [1, 3, W, H]\n",
    "transform = T.ToTensor()  # converts to (C, H, W) and scales to [0,1]\n",
    "img = transform(img).unsqueeze(0)   # (1, 3, H, W)\n",
    "resize = T.Resize((height, width))\n",
    "img = resize(img).to(device)"
   ]
  },
  {
   "cell_type": "code",
   "execution_count": null,
   "id": "12f0d962",
   "metadata": {},
   "outputs": [],
   "source": [
    "plt.imshow(img.squeeze(0).permute(1, 2, 0).cpu().numpy()) \n",
    "\n",
    "sr = model(img)"
   ]
  },
  {
   "cell_type": "code",
   "execution_count": null,
   "id": "56899695",
   "metadata": {},
   "outputs": [],
   "source": [
    "plt.imshow(sr.squeeze(0).permute(1, 2, 0).detach().cpu().numpy())  # convert to (H, W, C) for plt"
   ]
  }
 ],
 "metadata": {
  "kernelspec": {
   "display_name": "Python 3",
   "language": "python",
   "name": "python3"
  },
  "language_info": {
   "codemirror_mode": {
    "name": "ipython",
    "version": 3
   },
   "file_extension": ".py",
   "mimetype": "text/x-python",
   "name": "python",
   "nbconvert_exporter": "python",
   "pygments_lexer": "ipython3",
   "version": "3.11.10"
  }
 },
 "nbformat": 4,
 "nbformat_minor": 5
}
